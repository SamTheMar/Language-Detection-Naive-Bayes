{
 "cells": [
  {
   "cell_type": "markdown",
   "metadata": {},
   "source": [
    "# Efficient language detection model using Naive Bayes\n",
    "\n",
    "Author:\n",
    " - Samuele Marino"
   ]
  },
  {
   "cell_type": "markdown",
   "metadata": {},
   "source": [
    "Language detection goal is to create a model that is able to detect the language a text is written in.\n",
    "Data Scientists usually employ neural network models to accomplish such a goal. In this notebook indeed, I create a language detection model using a Naive Bayes model."
   ]
  },
  {
   "cell_type": "markdown",
   "metadata": {},
   "source": [
    "## The problem"
   ]
  },
  {
   "cell_type": "markdown",
   "metadata": {},
   "source": [
    "The problem we are going to face is to create a model that, once fed with a text, is able to detect its language. The text can be a sentence, a word, a more complicated text, and so on. The output variable can be, for example, the language code.\n",
    "\n",
    "A good idea would be to have a model that detects the language of a text even if this text contains words that the model has not seen in the training phase. We want a model that can generalize the underlying structure of a language in a way that makes it detect it properly."
   ]
  },
  {
   "cell_type": "markdown",
   "metadata": {},
   "source": [
    "## The model\n",
    "\n",
    "The model I’m going to use in order to solve the prblem is a Multinomial Naive Bayes. It’s a very simple model and Naive Bayes is, generally speaking, very powerful in Natural Language Processing. It almost has no hyperparameters, so we can focus on the pre-processing phase, which is the most critical.\n",
    "\n",
    "I will implement unigram and bigram model.\n",
    "Although there is already existing implementation in scikit-learn package, for unigram I want to recreate the algorithm from scratch. While for bigramm I use scikit-learn implementation."
   ]
  },
  {
   "cell_type": "markdown",
   "metadata": {},
   "source": [
    "## Unigram"
   ]
  },
  {
   "cell_type": "markdown",
   "metadata": {},
   "source": [
    "In order to label the language we need to compute the probability than an text is English or Italian or French or ... given that the words W are in the text, $P(L = English|W)$ and $P(L = Italian|W)$ and so on and so forth.\n",
    "\n",
    "The probability that text is english given that the text contains the words W is\n",
    "\\begin{equation*}\n",
    "P(L = English|W) = \\frac{P(W|L = English)P(L = English)}{P(W)}\n",
    "\\end{equation*}\n",
    "where:\n",
    "\\begin{equation*}\n",
    "P(W|L = English)=P(w_1,w_2,...,w_n|L = English)=\\prod_{i=1}^{n}P(w_i|L = English)\n",
    "\\end{equation*}\n",
    "and\n",
    "\\begin{equation*}\n",
    "P(W)=P(W|L = English)P(L = English)+P(W|L = Italian)P(L = Italian) + ...\n",
    "\\end{equation*}\n",
    "or\n",
    "\\begin{equation*}\n",
    "P(W)= \\sum_{l \\in L}P(W|L = l)P(L = l)\n",
    "\\end{equation*}\n",
    "\n",
    "$P(L|W)$ can be calculated similarly for all languages labels, so we can say that:\n",
    "\\begin{equation*}\n",
    "P(L|W) \\propto \\prod_{i=1}^{n}P(w_i|L)P(L)\n",
    "\\end{equation*}\n",
    "\n",
    "There is the possibility that same probability is really small, so it's a good idea change the space to $log$ space to prevent underflow.\n",
    "\n",
    "\\begin{align*}\n",
    "\\ln(P(L = &English|W)) \\propto \\\\\n",
    "\\ln(\\prod_{i=1}^{n}P(w_i|L = En&glish)P(L = English)) \\\\\n",
    "= \\ln(P(L = English)&\\prod_{i=1}^{n}P(w_i|L = English)) = \\\\\n",
    "\\ln(P(L = English)) + &\\sum_{i=1}^{n}\\ln(P(w_i|L = English))\n",
    "\\end{align*}\n",
    "The same operation can be applied to $P(L|W)$ \n",
    "\n",
    "or\n",
    "\\begin{align*}\n",
    "\\ln(P(L|W)) \\propto \\ln(\\prod_{i=1}^{n}P(w_i|L )P(L)) = \\ln(P(L)\\prod_{i=1}^{n}P(w_i|L)) &= \\ln(P(L)) + \\sum_{i=1}^{n}\\ln(P(w_i|L))\n",
    "\\end{align*}\n"
   ]
  },
  {
   "cell_type": "markdown",
   "metadata": {},
   "source": [
    "We can assume that the words are generated following a multinomial distribution and are independent.\n",
    "So we can compute $P(W|L)$.\n",
    "\\begin{equation*}\n",
    "P(W|L) = \\frac{N_{W,L} + \\alpha}{N_L + \\alpha N_V}\n",
    "\\end{equation*}\n",
    "\n",
    "where:\n",
    "- $N_V$ is the number of unique words in the whole dataset.\n",
    "- $N_L$ is the total number of words in the specific language text.\n",
    "- $N_{W,L}$ is the number of occurrences of the word $W$ in all specific language text.\n",
    "- $\\alpha$ is smoothing parameter. It prevents this value from being 0 if there are few occurrences of a particular word. In doing so it prevents our calculation from being highly inaccurate. It also prevents a divide-by-zero error.\n",
    "\n",
    "Let's write some code..."
   ]
  },
  {
   "cell_type": "markdown",
   "metadata": {},
   "source": [
    "### Import libraries"
   ]
  },
  {
   "cell_type": "code",
   "execution_count": 1,
   "metadata": {},
   "outputs": [],
   "source": [
    "from math import log\n",
    "import pandas as pd\n",
    "from sklearn.model_selection import train_test_split\n",
    "from seaborn import heatmap\n",
    "import matplotlib.pyplot as plt\n",
    "from sklearn.metrics import confusion_matrix, accuracy_score, classification_report\n",
    "from copy import copy"
   ]
  },
  {
   "cell_type": "markdown",
   "metadata": {},
   "source": [
    "### Dataset"
   ]
  },
  {
   "cell_type": "markdown",
   "metadata": {},
   "source": [
    "I will use the Language Detection Dataset by Basil Saji. It is free and can be downloaded from [Kaggle](https://www.kaggle.com/datasets/basilb2s/language-detection?resource=download).\n",
    "\n",
    "Dataset structure is simple. It contains two columns:\n",
    "- one for the text.\n",
    "- one for the label."
   ]
  },
  {
   "cell_type": "code",
   "execution_count": 2,
   "metadata": {},
   "outputs": [
    {
     "data": {
      "text/html": [
       "<div>\n",
       "<style scoped>\n",
       "    .dataframe tbody tr th:only-of-type {\n",
       "        vertical-align: middle;\n",
       "    }\n",
       "\n",
       "    .dataframe tbody tr th {\n",
       "        vertical-align: top;\n",
       "    }\n",
       "\n",
       "    .dataframe thead th {\n",
       "        text-align: right;\n",
       "    }\n",
       "</style>\n",
       "<table border=\"1\" class=\"dataframe\">\n",
       "  <thead>\n",
       "    <tr style=\"text-align: right;\">\n",
       "      <th></th>\n",
       "      <th>Text</th>\n",
       "      <th>Language</th>\n",
       "    </tr>\n",
       "  </thead>\n",
       "  <tbody>\n",
       "    <tr>\n",
       "      <th>0</th>\n",
       "      <td>Nature, in the broadest sense, is the natural...</td>\n",
       "      <td>English</td>\n",
       "    </tr>\n",
       "    <tr>\n",
       "      <th>1</th>\n",
       "      <td>\"Nature\" can refer to the phenomena of the phy...</td>\n",
       "      <td>English</td>\n",
       "    </tr>\n",
       "    <tr>\n",
       "      <th>2</th>\n",
       "      <td>The study of nature is a large, if not the onl...</td>\n",
       "      <td>English</td>\n",
       "    </tr>\n",
       "    <tr>\n",
       "      <th>3</th>\n",
       "      <td>Although humans are part of nature, human acti...</td>\n",
       "      <td>English</td>\n",
       "    </tr>\n",
       "    <tr>\n",
       "      <th>4</th>\n",
       "      <td>[1] The word nature is borrowed from the Old F...</td>\n",
       "      <td>English</td>\n",
       "    </tr>\n",
       "  </tbody>\n",
       "</table>\n",
       "</div>"
      ],
      "text/plain": [
       "                                                Text Language\n",
       "0   Nature, in the broadest sense, is the natural...  English\n",
       "1  \"Nature\" can refer to the phenomena of the phy...  English\n",
       "2  The study of nature is a large, if not the onl...  English\n",
       "3  Although humans are part of nature, human acti...  English\n",
       "4  [1] The word nature is borrowed from the Old F...  English"
      ]
     },
     "execution_count": 2,
     "metadata": {},
     "output_type": "execute_result"
    }
   ],
   "source": [
    "url = \"Dataset/Language Detection.csv\"\n",
    "data = pd.read_csv(url, sep=',')\n",
    "\n",
    "data.head()"
   ]
  },
  {
   "cell_type": "code",
   "execution_count": 3,
   "metadata": {},
   "outputs": [
    {
     "data": {
      "text/html": [
       "<div>\n",
       "<style scoped>\n",
       "    .dataframe tbody tr th:only-of-type {\n",
       "        vertical-align: middle;\n",
       "    }\n",
       "\n",
       "    .dataframe tbody tr th {\n",
       "        vertical-align: top;\n",
       "    }\n",
       "\n",
       "    .dataframe thead th {\n",
       "        text-align: right;\n",
       "    }\n",
       "</style>\n",
       "<table border=\"1\" class=\"dataframe\">\n",
       "  <thead>\n",
       "    <tr style=\"text-align: right;\">\n",
       "      <th></th>\n",
       "      <th>Text</th>\n",
       "    </tr>\n",
       "    <tr>\n",
       "      <th>Language</th>\n",
       "      <th></th>\n",
       "    </tr>\n",
       "  </thead>\n",
       "  <tbody>\n",
       "    <tr>\n",
       "      <th>Arabic</th>\n",
       "      <td>536</td>\n",
       "    </tr>\n",
       "    <tr>\n",
       "      <th>Danish</th>\n",
       "      <td>428</td>\n",
       "    </tr>\n",
       "    <tr>\n",
       "      <th>Dutch</th>\n",
       "      <td>546</td>\n",
       "    </tr>\n",
       "    <tr>\n",
       "      <th>English</th>\n",
       "      <td>1385</td>\n",
       "    </tr>\n",
       "    <tr>\n",
       "      <th>French</th>\n",
       "      <td>1014</td>\n",
       "    </tr>\n",
       "    <tr>\n",
       "      <th>German</th>\n",
       "      <td>470</td>\n",
       "    </tr>\n",
       "    <tr>\n",
       "      <th>Greek</th>\n",
       "      <td>365</td>\n",
       "    </tr>\n",
       "    <tr>\n",
       "      <th>Hindi</th>\n",
       "      <td>63</td>\n",
       "    </tr>\n",
       "    <tr>\n",
       "      <th>Italian</th>\n",
       "      <td>698</td>\n",
       "    </tr>\n",
       "    <tr>\n",
       "      <th>Kannada</th>\n",
       "      <td>369</td>\n",
       "    </tr>\n",
       "    <tr>\n",
       "      <th>Malayalam</th>\n",
       "      <td>594</td>\n",
       "    </tr>\n",
       "    <tr>\n",
       "      <th>Portugeese</th>\n",
       "      <td>739</td>\n",
       "    </tr>\n",
       "    <tr>\n",
       "      <th>Russian</th>\n",
       "      <td>692</td>\n",
       "    </tr>\n",
       "    <tr>\n",
       "      <th>Spanish</th>\n",
       "      <td>819</td>\n",
       "    </tr>\n",
       "    <tr>\n",
       "      <th>Sweedish</th>\n",
       "      <td>676</td>\n",
       "    </tr>\n",
       "    <tr>\n",
       "      <th>Tamil</th>\n",
       "      <td>469</td>\n",
       "    </tr>\n",
       "    <tr>\n",
       "      <th>Turkish</th>\n",
       "      <td>474</td>\n",
       "    </tr>\n",
       "  </tbody>\n",
       "</table>\n",
       "</div>"
      ],
      "text/plain": [
       "            Text\n",
       "Language        \n",
       "Arabic       536\n",
       "Danish       428\n",
       "Dutch        546\n",
       "English     1385\n",
       "French      1014\n",
       "German       470\n",
       "Greek        365\n",
       "Hindi         63\n",
       "Italian      698\n",
       "Kannada      369\n",
       "Malayalam    594\n",
       "Portugeese   739\n",
       "Russian      692\n",
       "Spanish      819\n",
       "Sweedish     676\n",
       "Tamil        469\n",
       "Turkish      474"
      ]
     },
     "execution_count": 3,
     "metadata": {},
     "output_type": "execute_result"
    }
   ],
   "source": [
    "data.groupby('Language').count()"
   ]
  },
  {
   "cell_type": "code",
   "execution_count": 4,
   "metadata": {},
   "outputs": [],
   "source": [
    "languages = data['Language'].unique()"
   ]
  },
  {
   "cell_type": "markdown",
   "metadata": {},
   "source": [
    "### Preparation"
   ]
  },
  {
   "cell_type": "markdown",
   "metadata": {},
   "source": [
    "Before the algorithm application, I prepare data. First of all, I will remove the punctuation. Then I will convert all the text into the lower-case and split it into the separate words."
   ]
  },
  {
   "cell_type": "code",
   "execution_count": null,
   "metadata": {},
   "outputs": [],
   "source": [
    "data_clean = data.copy()\n",
    "\n",
    "data_clean['Text'] = data_clean['Text'].str.replace('\\W+', ' ').str.replace('\\s+', ' ').str.strip()\n",
    "data_clean['Text'] = data_clean['Text'].str.lower()\n",
    "data_clean['Text'] = data_clean['Text'].str.split()"
   ]
  },
  {
   "cell_type": "code",
   "execution_count": 105,
   "metadata": {},
   "outputs": [
    {
     "data": {
      "text/plain": [
       "0    [nature, in, the, broadest, sense, is, the, na...\n",
       "1    [nature, can, refer, to, the, phenomena, of, t...\n",
       "2    [the, study, of, nature, is, a, large, if, not...\n",
       "3    [although, humans, are, part, of, nature, huma...\n",
       "4    [1, the, word, nature, is, borrowed, from, the...\n",
       "Name: Text, dtype: object"
      ]
     },
     "execution_count": 105,
     "metadata": {},
     "output_type": "execute_result"
    }
   ],
   "source": [
    "data_clean['Text'].head()"
   ]
  },
  {
   "cell_type": "markdown",
   "metadata": {},
   "source": [
    "#### Split to train and test data"
   ]
  },
  {
   "cell_type": "code",
   "execution_count": 7,
   "metadata": {},
   "outputs": [],
   "source": [
    "train_data, test_data = train_test_split(data_clean, test_size=0.33, random_state=42)"
   ]
  },
  {
   "cell_type": "code",
   "execution_count": 107,
   "metadata": {},
   "outputs": [
    {
     "name": "stdout",
     "output_type": "stream",
     "text": [
      "The number of sample in the train data is: 6925\n"
     ]
    },
    {
     "data": {
      "text/plain": [
       "English       12.981949\n",
       "French         9.732852\n",
       "Spanish        7.942238\n",
       "Portugeese     7.191336\n",
       "Russian        6.859206\n",
       "Italian        6.657040\n",
       "Sweedish       6.657040\n",
       "Malayalam      5.689531\n",
       "Dutch          5.184116\n",
       "Arabic         5.111913\n",
       "German         4.664260\n",
       "Turkish        4.592058\n",
       "Tamil          4.534296\n",
       "Danish         4.173285\n",
       "Kannada        3.754513\n",
       "Greek          3.653430\n",
       "Hindi          0.620939\n",
       "Name: Language, dtype: float64"
      ]
     },
     "execution_count": 107,
     "metadata": {},
     "output_type": "execute_result"
    }
   ],
   "source": [
    "print(f'The number of sample in the train data is: {train_data.shape[0]}')\n",
    "train_data['Language'].value_counts() / train_data.shape[0] * 100"
   ]
  },
  {
   "cell_type": "code",
   "execution_count": 108,
   "metadata": {},
   "outputs": [
    {
     "name": "stdout",
     "output_type": "stream",
     "text": [
      "The number of sample in the test data is: 3412\n"
     ]
    },
    {
     "data": {
      "text/plain": [
       "English       14.243845\n",
       "French         9.964830\n",
       "Spanish        7.883939\n",
       "Portugeese     7.063306\n",
       "Italian        6.946073\n",
       "Russian        6.359906\n",
       "Sweedish       6.301290\n",
       "Malayalam      5.861665\n",
       "Dutch          5.480657\n",
       "Arabic         5.334115\n",
       "Turkish        4.572098\n",
       "Tamil          4.542790\n",
       "German         4.308324\n",
       "Danish         4.073857\n",
       "Greek          3.282532\n",
       "Kannada        3.194607\n",
       "Hindi          0.586166\n",
       "Name: Language, dtype: float64"
      ]
     },
     "execution_count": 108,
     "metadata": {},
     "output_type": "execute_result"
    }
   ],
   "source": [
    "print(f'The number of sample in the test data is: {test_data.shape[0]}')\n",
    "test_data['Language'].value_counts() / test_data.shape[0] * 100"
   ]
  },
  {
   "cell_type": "code",
   "execution_count": 109,
   "metadata": {},
   "outputs": [
    {
     "data": {
      "text/html": [
       "<div>\n",
       "<style scoped>\n",
       "    .dataframe tbody tr th:only-of-type {\n",
       "        vertical-align: middle;\n",
       "    }\n",
       "\n",
       "    .dataframe tbody tr th {\n",
       "        vertical-align: top;\n",
       "    }\n",
       "\n",
       "    .dataframe thead th {\n",
       "        text-align: right;\n",
       "    }\n",
       "</style>\n",
       "<table border=\"1\" class=\"dataframe\">\n",
       "  <thead>\n",
       "    <tr style=\"text-align: right;\">\n",
       "      <th></th>\n",
       "      <th>Text</th>\n",
       "      <th>Language</th>\n",
       "    </tr>\n",
       "  </thead>\n",
       "  <tbody>\n",
       "    <tr>\n",
       "      <th>6662</th>\n",
       "      <td>[и, с, этими, словами, она, села, в, его, каре...</td>\n",
       "      <td>Russian</td>\n",
       "    </tr>\n",
       "    <tr>\n",
       "      <th>7362</th>\n",
       "      <td>[sistemi, di, tipo, probabilistico, erano, inv...</td>\n",
       "      <td>Italian</td>\n",
       "    </tr>\n",
       "    <tr>\n",
       "      <th>765</th>\n",
       "      <td>[machine, learning, involves, computers, disco...</td>\n",
       "      <td>English</td>\n",
       "    </tr>\n",
       "    <tr>\n",
       "      <th>6192</th>\n",
       "      <td>[несколько, языковых, версий, опубликовали, по...</td>\n",
       "      <td>Russian</td>\n",
       "    </tr>\n",
       "    <tr>\n",
       "      <th>562</th>\n",
       "      <td>[225, in, may, 2014, wikimedia, foundation, na...</td>\n",
       "      <td>English</td>\n",
       "    </tr>\n",
       "  </tbody>\n",
       "</table>\n",
       "</div>"
      ],
      "text/plain": [
       "                                                   Text Language\n",
       "6662  [и, с, этими, словами, она, села, в, его, каре...  Russian\n",
       "7362  [sistemi, di, tipo, probabilistico, erano, inv...  Italian\n",
       "765   [machine, learning, involves, computers, disco...  English\n",
       "6192  [несколько, языковых, версий, опубликовали, по...  Russian\n",
       "562   [225, in, may, 2014, wikimedia, foundation, na...  English"
      ]
     },
     "execution_count": 109,
     "metadata": {},
     "output_type": "execute_result"
    }
   ],
   "source": [
    "test_data.head()"
   ]
  },
  {
   "cell_type": "markdown",
   "metadata": {},
   "source": [
    "### Prepare vocabulary"
   ]
  },
  {
   "cell_type": "markdown",
   "metadata": {},
   "source": [
    "I prepare the vocabulary and count the number of separate words in each text."
   ]
  },
  {
   "cell_type": "code",
   "execution_count": 12,
   "metadata": {},
   "outputs": [
    {
     "name": "stdout",
     "output_type": "stream",
     "text": [
      "The length of the vocabulary is: 31744\n"
     ]
    }
   ],
   "source": [
    "vocabulary = list(dict.fromkeys(train_data['Text'].sum()))\n",
    "print(f'The length of the vocabulary is: {len(vocabulary)}')"
   ]
  },
  {
   "cell_type": "markdown",
   "metadata": {},
   "source": [
    "Calculate frequencies of the words for each message"
   ]
  },
  {
   "cell_type": "code",
   "execution_count": 13,
   "metadata": {},
   "outputs": [],
   "source": [
    "word_counts_per_text = pd.DataFrame([\n",
    "    [row[0].count(word) for word in vocabulary]\n",
    "    for _, row in train_data.iterrows()], columns=vocabulary)"
   ]
  },
  {
   "cell_type": "markdown",
   "metadata": {},
   "source": [
    "save vocabulary (Optional)"
   ]
  },
  {
   "cell_type": "code",
   "execution_count": null,
   "metadata": {},
   "outputs": [],
   "source": [
    "# word_counts_per_text.to_csv('vocabulary.csv')"
   ]
  },
  {
   "cell_type": "markdown",
   "metadata": {},
   "source": [
    "load vocabulary (Optional)"
   ]
  },
  {
   "cell_type": "code",
   "execution_count": 8,
   "metadata": {},
   "outputs": [],
   "source": [
    "# url = './vocabulary.csv'\n",
    "# word_counts_per_text = pd.read_csv(url, sep=',')\n",
    "# word_counts_per_text = word_counts_per_text.drop('Unnamed: 0', axis=1)"
   ]
  },
  {
   "cell_type": "code",
   "execution_count": 9,
   "metadata": {},
   "outputs": [],
   "source": [
    "train_data_voc = pd.concat([train_data.reset_index(), word_counts_per_text], axis=1).iloc[:,1:]"
   ]
  },
  {
   "cell_type": "code",
   "execution_count": 17,
   "metadata": {},
   "outputs": [
    {
     "data": {
      "text/html": [
       "<div>\n",
       "<style scoped>\n",
       "    .dataframe tbody tr th:only-of-type {\n",
       "        vertical-align: middle;\n",
       "    }\n",
       "\n",
       "    .dataframe tbody tr th {\n",
       "        vertical-align: top;\n",
       "    }\n",
       "\n",
       "    .dataframe thead th {\n",
       "        text-align: right;\n",
       "    }\n",
       "</style>\n",
       "<table border=\"1\" class=\"dataframe\">\n",
       "  <thead>\n",
       "    <tr style=\"text-align: right;\">\n",
       "      <th></th>\n",
       "      <th>Text</th>\n",
       "      <th>Language</th>\n",
       "      <th>agora</th>\n",
       "      <th>mesmo</th>\n",
       "      <th>examples</th>\n",
       "      <th>include</th>\n",
       "      <th>artificial</th>\n",
       "      <th>neural</th>\n",
       "      <th>networks</th>\n",
       "      <th>multilayer</th>\n",
       "      <th>...</th>\n",
       "      <th>πλήρως</th>\n",
       "      <th>conexiones</th>\n",
       "      <th>pesos</th>\n",
       "      <th>numéricos</th>\n",
       "      <th>generality</th>\n",
       "      <th>simulation</th>\n",
       "      <th>multi</th>\n",
       "      <th>swarm</th>\n",
       "      <th>dedicate</th>\n",
       "      <th>mobili</th>\n",
       "    </tr>\n",
       "  </thead>\n",
       "  <tbody>\n",
       "    <tr>\n",
       "      <th>0</th>\n",
       "      <td>[agora, mesmo]</td>\n",
       "      <td>Portugeese</td>\n",
       "      <td>1</td>\n",
       "      <td>1</td>\n",
       "      <td>0</td>\n",
       "      <td>0</td>\n",
       "      <td>0</td>\n",
       "      <td>0</td>\n",
       "      <td>0</td>\n",
       "      <td>0</td>\n",
       "      <td>...</td>\n",
       "      <td>0</td>\n",
       "      <td>0</td>\n",
       "      <td>0</td>\n",
       "      <td>0</td>\n",
       "      <td>0</td>\n",
       "      <td>0</td>\n",
       "      <td>0</td>\n",
       "      <td>0</td>\n",
       "      <td>0</td>\n",
       "      <td>0</td>\n",
       "    </tr>\n",
       "    <tr>\n",
       "      <th>1</th>\n",
       "      <td>[examples, include, artificial, neural, networ...</td>\n",
       "      <td>English</td>\n",
       "      <td>0</td>\n",
       "      <td>0</td>\n",
       "      <td>1</td>\n",
       "      <td>1</td>\n",
       "      <td>1</td>\n",
       "      <td>1</td>\n",
       "      <td>1</td>\n",
       "      <td>1</td>\n",
       "      <td>...</td>\n",
       "      <td>0</td>\n",
       "      <td>0</td>\n",
       "      <td>0</td>\n",
       "      <td>0</td>\n",
       "      <td>0</td>\n",
       "      <td>0</td>\n",
       "      <td>0</td>\n",
       "      <td>0</td>\n",
       "      <td>0</td>\n",
       "      <td>0</td>\n",
       "    </tr>\n",
       "    <tr>\n",
       "      <th>2</th>\n",
       "      <td>[140, the, list, concerns, basic, content, by,...</td>\n",
       "      <td>English</td>\n",
       "      <td>0</td>\n",
       "      <td>0</td>\n",
       "      <td>0</td>\n",
       "      <td>0</td>\n",
       "      <td>0</td>\n",
       "      <td>0</td>\n",
       "      <td>0</td>\n",
       "      <td>0</td>\n",
       "      <td>...</td>\n",
       "      <td>0</td>\n",
       "      <td>0</td>\n",
       "      <td>0</td>\n",
       "      <td>0</td>\n",
       "      <td>0</td>\n",
       "      <td>0</td>\n",
       "      <td>0</td>\n",
       "      <td>0</td>\n",
       "      <td>0</td>\n",
       "      <td>0</td>\n",
       "    </tr>\n",
       "    <tr>\n",
       "      <th>3</th>\n",
       "      <td>[därmed, är, det, möjligt, att, länka, till, j...</td>\n",
       "      <td>Sweedish</td>\n",
       "      <td>0</td>\n",
       "      <td>0</td>\n",
       "      <td>0</td>\n",
       "      <td>0</td>\n",
       "      <td>0</td>\n",
       "      <td>0</td>\n",
       "      <td>0</td>\n",
       "      <td>0</td>\n",
       "      <td>...</td>\n",
       "      <td>0</td>\n",
       "      <td>0</td>\n",
       "      <td>0</td>\n",
       "      <td>0</td>\n",
       "      <td>0</td>\n",
       "      <td>0</td>\n",
       "      <td>0</td>\n",
       "      <td>0</td>\n",
       "      <td>0</td>\n",
       "      <td>0</td>\n",
       "    </tr>\n",
       "    <tr>\n",
       "      <th>4</th>\n",
       "      <td>[ainsi, celle, ci, se, vengera, de, ce, qu, on...</td>\n",
       "      <td>French</td>\n",
       "      <td>0</td>\n",
       "      <td>0</td>\n",
       "      <td>0</td>\n",
       "      <td>0</td>\n",
       "      <td>0</td>\n",
       "      <td>0</td>\n",
       "      <td>0</td>\n",
       "      <td>0</td>\n",
       "      <td>...</td>\n",
       "      <td>0</td>\n",
       "      <td>0</td>\n",
       "      <td>0</td>\n",
       "      <td>0</td>\n",
       "      <td>0</td>\n",
       "      <td>0</td>\n",
       "      <td>0</td>\n",
       "      <td>0</td>\n",
       "      <td>0</td>\n",
       "      <td>0</td>\n",
       "    </tr>\n",
       "  </tbody>\n",
       "</table>\n",
       "<p>5 rows × 31746 columns</p>\n",
       "</div>"
      ],
      "text/plain": [
       "                                                Text    Language  agora  \\\n",
       "0                                     [agora, mesmo]  Portugeese      1   \n",
       "1  [examples, include, artificial, neural, networ...     English      0   \n",
       "2  [140, the, list, concerns, basic, content, by,...     English      0   \n",
       "3  [därmed, är, det, möjligt, att, länka, till, j...    Sweedish      0   \n",
       "4  [ainsi, celle, ci, se, vengera, de, ce, qu, on...      French      0   \n",
       "\n",
       "   mesmo  examples  include  artificial  neural  networks  multilayer  ...  \\\n",
       "0      1         0        0           0       0         0           0  ...   \n",
       "1      0         1        1           1       1         1           1  ...   \n",
       "2      0         0        0           0       0         0           0  ...   \n",
       "3      0         0        0           0       0         0           0  ...   \n",
       "4      0         0        0           0       0         0           0  ...   \n",
       "\n",
       "   πλήρως  conexiones  pesos  numéricos  generality  simulation  multi  swarm  \\\n",
       "0       0           0      0          0           0           0      0      0   \n",
       "1       0           0      0          0           0           0      0      0   \n",
       "2       0           0      0          0           0           0      0      0   \n",
       "3       0           0      0          0           0           0      0      0   \n",
       "4       0           0      0          0           0           0      0      0   \n",
       "\n",
       "   dedicate  mobili  \n",
       "0         0       0  \n",
       "1         0       0  \n",
       "2         0       0  \n",
       "3         0       0  \n",
       "4         0       0  \n",
       "\n",
       "[5 rows x 31746 columns]"
      ]
     },
     "execution_count": 17,
     "metadata": {},
     "output_type": "execute_result"
    }
   ],
   "source": [
    "train_data_voc.head()"
   ]
  },
  {
   "cell_type": "markdown",
   "metadata": {},
   "source": [
    "### Calculate values for the Bayes formula"
   ]
  },
  {
   "cell_type": "code",
   "execution_count": 13,
   "metadata": {},
   "outputs": [],
   "source": [
    "alpha = 1\n",
    "Nvoc = len(vocabulary)\n",
    "P_languages = dict(zip(languages,\n",
    "                       [train_data['Language'].value_counts()[language] / train_data.shape[0] for language in languages]))\n",
    "N_languages = dict(zip(languages,\n",
    "                       [train_data.loc[train_data['Language'] == language, 'Text'].apply(len).sum() for language in languages]))\n"
   ]
  },
  {
   "cell_type": "markdown",
   "metadata": {},
   "source": [
    "To complete the formula we will define the functions to determine the probabilities of the given word to belong to a language:"
   ]
  },
  {
   "cell_type": "code",
   "execution_count": 14,
   "metadata": {},
   "outputs": [],
   "source": [
    "def p_w_l(word, language):\n",
    "    if word in train_data_voc.columns:\n",
    "        Nwl = train_data_voc.loc[train_data_voc['Language'] == language, word].sum()\n",
    "        return (Nwl + alpha) / (N_languages[language] + alpha*Nvoc)\n",
    "    else:\n",
    "        return 1\n"
   ]
  },
  {
   "cell_type": "code",
   "execution_count": null,
   "metadata": {},
   "outputs": [],
   "source": [
    "def p_w_l(word, language):\n",
    "    Nwl = train_data_voc.loc[train_data_voc['Language'] == language, word].sum(\n",
    "    ) if word in train_data_voc.columns else 0\n",
    "    return (Nwl + alpha) / (N_languages[language] + alpha*Nvoc)\n"
   ]
  },
  {
   "cell_type": "markdown",
   "metadata": {},
   "source": [
    "### Prepare the classificator"
   ]
  },
  {
   "cell_type": "code",
   "execution_count": 15,
   "metadata": {},
   "outputs": [],
   "source": [
    "def log_classify(message):\n",
    "    p_language_gien_text = copy(P_languages)\n",
    "    p_language_gien_text = {k: log(v) for (k, v) in p_language_gien_text.items()}\n",
    "    for language in languages: \n",
    "        for word in message:\n",
    "            p_language_gien_text[language] += log(p_w_l(word, language))\n",
    "    return max(p_language_gien_text, key=p_language_gien_text.get)\n"
   ]
  },
  {
   "cell_type": "markdown",
   "metadata": {},
   "source": [
    "### Testing on the data test"
   ]
  },
  {
   "cell_type": "code",
   "execution_count": null,
   "metadata": {},
   "outputs": [],
   "source": [
    "test_data['predicted'] = test_data['Text'].apply(log_classify)"
   ]
  },
  {
   "cell_type": "code",
   "execution_count": 17,
   "metadata": {},
   "outputs": [
    {
     "data": {
      "text/html": [
       "<div>\n",
       "<style scoped>\n",
       "    .dataframe tbody tr th:only-of-type {\n",
       "        vertical-align: middle;\n",
       "    }\n",
       "\n",
       "    .dataframe tbody tr th {\n",
       "        vertical-align: top;\n",
       "    }\n",
       "\n",
       "    .dataframe thead th {\n",
       "        text-align: right;\n",
       "    }\n",
       "</style>\n",
       "<table border=\"1\" class=\"dataframe\">\n",
       "  <thead>\n",
       "    <tr style=\"text-align: right;\">\n",
       "      <th></th>\n",
       "      <th>Text</th>\n",
       "      <th>Language</th>\n",
       "      <th>predicted</th>\n",
       "    </tr>\n",
       "  </thead>\n",
       "  <tbody>\n",
       "    <tr>\n",
       "      <th>6662</th>\n",
       "      <td>[и, с, этими, словами, она, села, в, его, каре...</td>\n",
       "      <td>Russian</td>\n",
       "      <td>Russian</td>\n",
       "    </tr>\n",
       "    <tr>\n",
       "      <th>7362</th>\n",
       "      <td>[sistemi, di, tipo, probabilistico, erano, inv...</td>\n",
       "      <td>Italian</td>\n",
       "      <td>Italian</td>\n",
       "    </tr>\n",
       "    <tr>\n",
       "      <th>765</th>\n",
       "      <td>[machine, learning, involves, computers, disco...</td>\n",
       "      <td>English</td>\n",
       "      <td>English</td>\n",
       "    </tr>\n",
       "    <tr>\n",
       "      <th>6192</th>\n",
       "      <td>[несколько, языковых, версий, опубликовали, по...</td>\n",
       "      <td>Russian</td>\n",
       "      <td>Russian</td>\n",
       "    </tr>\n",
       "    <tr>\n",
       "      <th>562</th>\n",
       "      <td>[225, in, may, 2014, wikimedia, foundation, na...</td>\n",
       "      <td>English</td>\n",
       "      <td>English</td>\n",
       "    </tr>\n",
       "    <tr>\n",
       "      <th>...</th>\n",
       "      <td>...</td>\n",
       "      <td>...</td>\n",
       "      <td>...</td>\n",
       "    </tr>\n",
       "    <tr>\n",
       "      <th>2631</th>\n",
       "      <td>[algumas, edições, da, wikipédia, como, a, wik...</td>\n",
       "      <td>Portugeese</td>\n",
       "      <td>Portugeese</td>\n",
       "    </tr>\n",
       "    <tr>\n",
       "      <th>8570</th>\n",
       "      <td>[i, denna, dump, har, man, försökt, hitta, red...</td>\n",
       "      <td>Sweedish</td>\n",
       "      <td>Sweedish</td>\n",
       "    </tr>\n",
       "    <tr>\n",
       "      <th>9082</th>\n",
       "      <td>[ي, عرف, هذا, باسم, وجهة, نظر, محايدة, npov]</td>\n",
       "      <td>Arabic</td>\n",
       "      <td>Arabic</td>\n",
       "    </tr>\n",
       "    <tr>\n",
       "      <th>401</th>\n",
       "      <td>[114, this, method, of, evaluating, contributi...</td>\n",
       "      <td>English</td>\n",
       "      <td>English</td>\n",
       "    </tr>\n",
       "    <tr>\n",
       "      <th>7632</th>\n",
       "      <td>[a, dopo]</td>\n",
       "      <td>Italian</td>\n",
       "      <td>Italian</td>\n",
       "    </tr>\n",
       "  </tbody>\n",
       "</table>\n",
       "<p>3412 rows × 3 columns</p>\n",
       "</div>"
      ],
      "text/plain": [
       "                                                   Text    Language  \\\n",
       "6662  [и, с, этими, словами, она, села, в, его, каре...     Russian   \n",
       "7362  [sistemi, di, tipo, probabilistico, erano, inv...     Italian   \n",
       "765   [machine, learning, involves, computers, disco...     English   \n",
       "6192  [несколько, языковых, версий, опубликовали, по...     Russian   \n",
       "562   [225, in, may, 2014, wikimedia, foundation, na...     English   \n",
       "...                                                 ...         ...   \n",
       "2631  [algumas, edições, da, wikipédia, como, a, wik...  Portugeese   \n",
       "8570  [i, denna, dump, har, man, försökt, hitta, red...    Sweedish   \n",
       "9082       [ي, عرف, هذا, باسم, وجهة, نظر, محايدة, npov]      Arabic   \n",
       "401   [114, this, method, of, evaluating, contributi...     English   \n",
       "7632                                          [a, dopo]     Italian   \n",
       "\n",
       "       predicted  \n",
       "6662     Russian  \n",
       "7362     Italian  \n",
       "765      English  \n",
       "6192     Russian  \n",
       "562      English  \n",
       "...          ...  \n",
       "2631  Portugeese  \n",
       "8570    Sweedish  \n",
       "9082      Arabic  \n",
       "401      English  \n",
       "7632     Italian  \n",
       "\n",
       "[3412 rows x 3 columns]"
      ]
     },
     "execution_count": 17,
     "metadata": {},
     "output_type": "execute_result"
    }
   ],
   "source": [
    "test_data"
   ]
  },
  {
   "cell_type": "code",
   "execution_count": 18,
   "metadata": {},
   "outputs": [
    {
     "name": "stdout",
     "output_type": "stream",
     "text": [
      "The correct prediction are 98.07%\n"
     ]
    }
   ],
   "source": [
    "ac = accuracy_score(test_data['Language'], test_data['predicted'])\n",
    "print(f'The correct prediction are {ac*100:.2f}%')"
   ]
  },
  {
   "cell_type": "markdown",
   "metadata": {},
   "source": [
    "Uncorrect Prediction"
   ]
  },
  {
   "cell_type": "code",
   "execution_count": 20,
   "metadata": {},
   "outputs": [
    {
     "data": {
      "text/html": [
       "<div>\n",
       "<style scoped>\n",
       "    .dataframe tbody tr th:only-of-type {\n",
       "        vertical-align: middle;\n",
       "    }\n",
       "\n",
       "    .dataframe tbody tr th {\n",
       "        vertical-align: top;\n",
       "    }\n",
       "\n",
       "    .dataframe thead th {\n",
       "        text-align: right;\n",
       "    }\n",
       "</style>\n",
       "<table border=\"1\" class=\"dataframe\">\n",
       "  <thead>\n",
       "    <tr style=\"text-align: right;\">\n",
       "      <th></th>\n",
       "      <th>Text</th>\n",
       "      <th>Language</th>\n",
       "      <th>predicted</th>\n",
       "    </tr>\n",
       "  </thead>\n",
       "  <tbody>\n",
       "    <tr>\n",
       "      <th>8043</th>\n",
       "      <td>[ben, yine, de, çamaşır, yıkayacağım]</td>\n",
       "      <td>Turkish</td>\n",
       "      <td>Dutch</td>\n",
       "    </tr>\n",
       "    <tr>\n",
       "      <th>4148</th>\n",
       "      <td>[allez, y]</td>\n",
       "      <td>French</td>\n",
       "      <td>Spanish</td>\n",
       "    </tr>\n",
       "    <tr>\n",
       "      <th>5461</th>\n",
       "      <td>[perdóneme]</td>\n",
       "      <td>Spanish</td>\n",
       "      <td>English</td>\n",
       "    </tr>\n",
       "    <tr>\n",
       "      <th>8093</th>\n",
       "      <td>[ilgilenmiyorum]</td>\n",
       "      <td>Turkish</td>\n",
       "      <td>English</td>\n",
       "    </tr>\n",
       "    <tr>\n",
       "      <th>7754</th>\n",
       "      <td>[scusandosi]</td>\n",
       "      <td>Italian</td>\n",
       "      <td>English</td>\n",
       "    </tr>\n",
       "    <tr>\n",
       "      <th>...</th>\n",
       "      <td>...</td>\n",
       "      <td>...</td>\n",
       "      <td>...</td>\n",
       "    </tr>\n",
       "    <tr>\n",
       "      <th>1332</th>\n",
       "      <td>[no, worries]</td>\n",
       "      <td>English</td>\n",
       "      <td>Spanish</td>\n",
       "    </tr>\n",
       "    <tr>\n",
       "      <th>8758</th>\n",
       "      <td>[rockar, du, rock]</td>\n",
       "      <td>Sweedish</td>\n",
       "      <td>Danish</td>\n",
       "    </tr>\n",
       "    <tr>\n",
       "      <th>3018</th>\n",
       "      <td>[desculpe, incomodá, lo]</td>\n",
       "      <td>Portugeese</td>\n",
       "      <td>Spanish</td>\n",
       "    </tr>\n",
       "    <tr>\n",
       "      <th>5456</th>\n",
       "      <td>[vacilando]</td>\n",
       "      <td>Spanish</td>\n",
       "      <td>English</td>\n",
       "    </tr>\n",
       "    <tr>\n",
       "      <th>4112</th>\n",
       "      <td>[hésitant]</td>\n",
       "      <td>French</td>\n",
       "      <td>English</td>\n",
       "    </tr>\n",
       "  </tbody>\n",
       "</table>\n",
       "<p>66 rows × 3 columns</p>\n",
       "</div>"
      ],
      "text/plain": [
       "                                       Text    Language predicted\n",
       "8043  [ben, yine, de, çamaşır, yıkayacağım]     Turkish     Dutch\n",
       "4148                             [allez, y]      French   Spanish\n",
       "5461                            [perdóneme]     Spanish   English\n",
       "8093                       [ilgilenmiyorum]     Turkish   English\n",
       "7754                           [scusandosi]     Italian   English\n",
       "...                                     ...         ...       ...\n",
       "1332                          [no, worries]     English   Spanish\n",
       "8758                     [rockar, du, rock]    Sweedish    Danish\n",
       "3018               [desculpe, incomodá, lo]  Portugeese   Spanish\n",
       "5456                            [vacilando]     Spanish   English\n",
       "4112                             [hésitant]      French   English\n",
       "\n",
       "[66 rows x 3 columns]"
      ]
     },
     "execution_count": 20,
     "metadata": {},
     "output_type": "execute_result"
    }
   ],
   "source": [
    "test_data.loc[test_data['predicted'] != test_data['Language']]"
   ]
  },
  {
   "cell_type": "markdown",
   "metadata": {},
   "source": [
    "### Confusion Matrix"
   ]
  },
  {
   "cell_type": "code",
   "execution_count": 51,
   "metadata": {},
   "outputs": [
    {
     "data": {
      "image/png": "[encoded data removed]",
      "text/plain": [
       "<Figure size 1700x700 with 2 Axes>"
      ]
     },
     "metadata": {},
     "output_type": "display_data"
    }
   ],
   "source": [
    "cm = confusion_matrix(test_data['Language'], test_data['predicted'])\n",
    "plt.figure(figsize=(17, 7))\n",
    "heatmap(cm,\n",
    "        annot=True,\n",
    "        xticklabels=languages,\n",
    "        yticklabels=languages,\n",
    "        cbar_kws={'orientation': 'horizontal'},)\n",
    "plt.show()"
   ]
  },
  {
   "cell_type": "markdown",
   "metadata": {},
   "source": [
    "### Classification report"
   ]
  },
  {
   "cell_type": "code",
   "execution_count": 22,
   "metadata": {},
   "outputs": [
    {
     "name": "stdout",
     "output_type": "stream",
     "text": [
      "              precision    recall  f1-score   support\n",
      "\n",
      "      Arabic       1.00      0.98      0.99       182\n",
      "      Danish       0.98      0.96      0.97       139\n",
      "       Dutch       0.99      0.97      0.98       187\n",
      "     English       0.92      1.00      0.96       486\n",
      "      French       0.98      0.98      0.98       340\n",
      "      German       1.00      0.97      0.99       147\n",
      "       Greek       1.00      0.98      0.99       112\n",
      "       Hindi       1.00      1.00      1.00        20\n",
      "     Italian       0.99      0.99      0.99       237\n",
      "     Kannada       1.00      1.00      1.00       109\n",
      "   Malayalam       1.00      0.99      1.00       200\n",
      "  Portugeese       0.99      0.98      0.98       241\n",
      "     Russian       1.00      0.99      0.99       217\n",
      "     Spanish       0.97      0.97      0.97       269\n",
      "    Sweedish       0.99      0.97      0.98       215\n",
      "       Tamil       1.00      1.00      1.00       155\n",
      "     Turkish       1.00      0.93      0.96       156\n",
      "\n",
      "    accuracy                           0.98      3412\n",
      "   macro avg       0.99      0.98      0.98      3412\n",
      "weighted avg       0.98      0.98      0.98      3412\n",
      "\n"
     ]
    }
   ],
   "source": [
    "print(classification_report(test_data['Language'], test_data['predicted']))"
   ]
  },
  {
   "cell_type": "markdown",
   "metadata": {},
   "source": [
    "## Bigram"
   ]
  },
  {
   "cell_type": "markdown",
   "metadata": {},
   "source": [
    "### Import libraries"
   ]
  },
  {
   "cell_type": "code",
   "execution_count": 23,
   "metadata": {},
   "outputs": [],
   "source": [
    "from sklearn.pipeline import Pipeline\n",
    "from sklearn.naive_bayes import MultinomialNB\n",
    "from sklearn.feature_extraction.text import CountVectorizer"
   ]
  },
  {
   "cell_type": "markdown",
   "metadata": {},
   "source": [
    "### Clean data"
   ]
  },
  {
   "cell_type": "code",
   "execution_count": null,
   "metadata": {},
   "outputs": [],
   "source": [
    "data_clean_bigram = data.copy()\n",
    "\n",
    "data_clean_bigram['Text'] = data_clean_bigram['Text'].str.replace('\\W+', ' ').str.replace('\\s+', ' ')\n",
    "data_clean_bigram['Text'] = data_clean_bigram['Text'].str.lower()"
   ]
  },
  {
   "cell_type": "markdown",
   "metadata": {},
   "source": [
    "### Split data"
   ]
  },
  {
   "cell_type": "code",
   "execution_count": 32,
   "metadata": {},
   "outputs": [],
   "source": [
    "X = data_clean_bigram['Text']\n",
    "y = data_clean_bigram['Language']\n",
    "X_train, X_test, y_train, y_test = train_test_split(X, y, test_size=0.33, random_state=42)"
   ]
  },
  {
   "cell_type": "markdown",
   "metadata": {},
   "source": [
    "### Converting text"
   ]
  },
  {
   "cell_type": "markdown",
   "metadata": {},
   "source": [
    "we are converting text into numerical form by creating a Bag of Words model using CountVectorizer"
   ]
  },
  {
   "cell_type": "code",
   "execution_count": 39,
   "metadata": {},
   "outputs": [],
   "source": [
    "cnt = CountVectorizer(analyzer='char', ngram_range=(2, 2))"
   ]
  },
  {
   "cell_type": "markdown",
   "metadata": {},
   "source": [
    "### Pipeline"
   ]
  },
  {
   "cell_type": "markdown",
   "metadata": {},
   "source": [
    "we create the pipeline that vectorizes our data and gives it to the model, which is a Multinomial Naive Bayes."
   ]
  },
  {
   "cell_type": "code",
   "execution_count": 54,
   "metadata": {},
   "outputs": [],
   "source": [
    "pipeline = Pipeline([\n",
    "    ('vectorizer', cnt),\n",
    "    ('model', MultinomialNB())\n",
    "])\n",
    "\n",
    "pipeline.fit(X_train, y_train);"
   ]
  },
  {
   "cell_type": "markdown",
   "metadata": {},
   "source": [
    "### Testing on the data test"
   ]
  },
  {
   "cell_type": "code",
   "execution_count": 53,
   "metadata": {},
   "outputs": [],
   "source": [
    "y_pred = pipeline.predict(X_test)"
   ]
  },
  {
   "cell_type": "code",
   "execution_count": 41,
   "metadata": {},
   "outputs": [
    {
     "name": "stdout",
     "output_type": "stream",
     "text": [
      "The correct prediction are 97.57%\n"
     ]
    }
   ],
   "source": [
    "ac = accuracy_score(y_test, y_pred)\n",
    "print(f'The correct prediction are {ac*100:.2f}%')"
   ]
  },
  {
   "cell_type": "markdown",
   "metadata": {},
   "source": [
    "### Confusion Matrix"
   ]
  },
  {
   "cell_type": "code",
   "execution_count": 47,
   "metadata": {},
   "outputs": [
    {
     "data": {
      "image/png": "[encoded data removed]",
      "text/plain": [
       "<Figure size 1700x700 with 2 Axes>"
      ]
     },
     "metadata": {},
     "output_type": "display_data"
    }
   ],
   "source": [
    "cm = confusion_matrix(y_test, y_pred)\n",
    "plt.figure(figsize=(17, 7))\n",
    "heatmap(cm, \n",
    "        annot=True, \n",
    "        xticklabels=languages, \n",
    "        yticklabels=languages,\n",
    "        cbar_kws={'orientation': 'horizontal'})\n",
    "plt.show()"
   ]
  },
  {
   "cell_type": "markdown",
   "metadata": {},
   "source": [
    "### Classification report"
   ]
  },
  {
   "cell_type": "code",
   "execution_count": 43,
   "metadata": {},
   "outputs": [
    {
     "name": "stdout",
     "output_type": "stream",
     "text": [
      "              precision    recall  f1-score   support\n",
      "\n",
      "      Arabic       1.00      0.99      1.00       182\n",
      "      Danish       0.97      0.92      0.94       139\n",
      "       Dutch       0.97      0.95      0.96       187\n",
      "     English       0.95      0.99      0.97       486\n",
      "      French       0.97      0.97      0.97       340\n",
      "      German       0.99      0.95      0.97       147\n",
      "       Greek       1.00      1.00      1.00       112\n",
      "       Hindi       1.00      1.00      1.00        20\n",
      "     Italian       0.96      0.97      0.96       237\n",
      "     Kannada       1.00      1.00      1.00       109\n",
      "   Malayalam       1.00      0.99      1.00       200\n",
      "  Portugeese       0.97      0.96      0.97       241\n",
      "     Russian       1.00      1.00      1.00       217\n",
      "     Spanish       0.98      0.96      0.97       269\n",
      "    Sweedish       0.95      0.97      0.96       215\n",
      "       Tamil       1.00      1.00      1.00       155\n",
      "     Turkish       0.99      0.98      0.99       156\n",
      "\n",
      "    accuracy                           0.98      3412\n",
      "   macro avg       0.98      0.98      0.98      3412\n",
      "weighted avg       0.98      0.98      0.98      3412\n",
      "\n"
     ]
    }
   ],
   "source": [
    "print(classification_report(y_test, y_pred))"
   ]
  }
 ],
 "metadata": {
  "kernelspec": {
   "display_name": "Python 3.7.5 ('ML')",
   "language": "python",
   "name": "python3"
  },
  "language_info": {
   "codemirror_mode": {
    "name": "ipython",
    "version": 3
   },
   "file_extension": ".py",
   "mimetype": "text/x-python",
   "name": "python",
   "nbconvert_exporter": "python",
   "pygments_lexer": "ipython3",
   "version": "3.7.5"
  },
  "orig_nbformat": 4,
  "vscode": {
   "interpreter": {
    "hash": "7b154d39ed79332938e6b628f1de65e9b69eb65b445b033c15578d231403557b"
   }
  }
 },
 "nbformat": 4,
 "nbformat_minor": 2
}
